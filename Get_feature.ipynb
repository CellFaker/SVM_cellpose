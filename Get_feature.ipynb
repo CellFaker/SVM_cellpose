{
 "cells": [
  {
   "cell_type": "code",
   "execution_count": null,
   "metadata": {},
   "outputs": [],
   "source": [
    "#Path Define\n",
    "csv_name = './SVM_Feature_1007.csv'"
   ]
  },
  {
   "cell_type": "code",
   "execution_count": null,
   "metadata": {},
   "outputs": [],
   "source": [
    "from turtle import onrelease\n",
    "from inference_cellpose import img_to_cellpose\n",
    "from inference_cellpose import obj_detection\n",
    "import cv2\n",
    "import matplotlib.pyplot as plt\n",
    "import numpy as np\n",
    "import feret\n",
    "\n",
    "def Compute_CellFeature(onemask):\n",
    "    \"\"\"\n",
    "    Args:\n",
    "        onemask : [width, height]\n",
    "    Return:\n",
    "        feature : [](area, length, circularity)\n",
    "    \"\"\"\n",
    "    #白い領域の割合計算(0~1)\n",
    "    w, h = onemask.shape\n",
    "    #white_area = cv2.countNonZero(onemask)\n",
    "    \n",
    "    #Compute area, len, cir\n",
    "    contours, _ = cv2.findContours(onemask, cv2.RETR_TREE, cv2.CHAIN_APPROX_NONE) \n",
    "    area = cv2.contourArea(contours[0], True)\n",
    "    length = cv2.arcLength(contours[0], True)\n",
    "\n",
    "    try:\n",
    "        circularity = 4*np.pi*area/length/length\n",
    "    except:\n",
    "        circularity = 0\n",
    "        print(length)\n",
    "        print(\"length is 0\")\n",
    "    \n",
    "    #Compute feret\n",
    "    maxf, minf, minf90, maxf90 = feret.all(onemask)\n",
    "    feret_ratio = maxf/minf\n",
    "\n",
    "    return [abs(area), abs(length), abs(circularity), maxf,minf, minf90, minf90, maxf90, feret_ratio]"
   ]
  },
  {
   "cell_type": "markdown",
   "metadata": {},
   "source": [
    "main"
   ]
  },
  {
   "cell_type": "code",
   "execution_count": null,
   "metadata": {},
   "outputs": [],
   "source": [
    "from glob import glob\n",
    "from tqdm import tqdm\n",
    "import csv\n",
    "\n",
    "folders = glob(\"train_0712_aug/*\")\n",
    "for cls, folder in enumerate(folders):\n",
    "    files = glob(folder + \"/*.png\")\n",
    "\n",
    "    for file in tqdm(files):\n",
    "        masks = img_to_cellpose(file)\n",
    "        masks, ids = obj_detection(masks, 1)#return [width, height, N]\n",
    "        masks = masks.transpose(2,1,0)#(x,y,obj番号)→(obj番号,x,y)に転置．\n",
    "\n",
    "        for i in range(len(masks)):\n",
    "            feature = Compute_CellFeature(masks[i])\n",
    "            feature = np.insert(feature, 0, int(cls))\n",
    "\n",
    "            with open(csv_name, 'a') as f:\n",
    "                writer = csv.writer(f, lineterminator='\\n')\n",
    "                writer.writerow(feature)"
   ]
  },
  {
   "cell_type": "code",
   "execution_count": null,
   "metadata": {},
   "outputs": [],
   "source": [
    "img = cv2.imread(img_path)\n",
    "plt.matshow(img)\n",
    "plt.matshow(masks[15]) \n",
    "print(masks.shape)"
   ]
  },
  {
   "cell_type": "code",
   "execution_count": null,
   "metadata": {},
   "outputs": [],
   "source": []
  }
 ],
 "metadata": {
  "kernelspec": {
   "display_name": "Python 3.7.13 ('cell')",
   "language": "python",
   "name": "python3"
  },
  "language_info": {
   "codemirror_mode": {
    "name": "ipython",
    "version": 3
   },
   "file_extension": ".py",
   "mimetype": "text/x-python",
   "name": "python",
   "nbconvert_exporter": "python",
   "pygments_lexer": "ipython3",
   "version": "3.7.13"
  },
  "orig_nbformat": 4,
  "vscode": {
   "interpreter": {
    "hash": "85aab78b62a0b0b7bea0a736b87cc2157e17da06611f44e6d8d7fe8688685325"
   }
  }
 },
 "nbformat": 4,
 "nbformat_minor": 2
}
